{
  "nbformat": 4,
  "nbformat_minor": 0,
  "metadata": {
    "colab": {
      "name": "Clase 1 Python OmegaUp.ipynb",
      "provenance": [],
      "authorship_tag": "ABX9TyPTz1wS/98xxnbXDGlVjHua",
      "include_colab_link": true
    },
    "kernelspec": {
      "name": "python3",
      "display_name": "Python 3"
    }
  },
  "cells": [
    {
      "cell_type": "markdown",
      "metadata": {
        "id": "view-in-github",
        "colab_type": "text"
      },
      "source": [
        "<a href=\"https://colab.research.google.com/github/federicogu/omegaUp.py/blob/master/Clase_1_Python_OmegaUp.ipynb\" target=\"_parent\"><img src=\"https://colab.research.google.com/assets/colab-badge.svg\" alt=\"Open In Colab\"/></a>"
      ]
    },
    {
      "cell_type": "code",
      "metadata": {
        "id": "ojTLLIzSbkr4",
        "colab_type": "code",
        "colab": {
          "base_uri": "https://localhost:8080/",
          "height": 35
        },
        "outputId": "ded3fbe4-99b9-42c0-b25c-7ba2ac34de02"
      },
      "source": [
        "print('Hola Mundo')"
      ],
      "execution_count": 28,
      "outputs": [
        {
          "output_type": "stream",
          "text": [
            "Hola Mundo\n"
          ],
          "name": "stdout"
        }
      ]
    },
    {
      "cell_type": "markdown",
      "metadata": {
        "id": "Oqf6ctEobgib",
        "colab_type": "text"
      },
      "source": [
        "Numeros enteros"
      ]
    },
    {
      "cell_type": "code",
      "metadata": {
        "id": "NOLoXPrqShr3",
        "colab_type": "code",
        "colab": {}
      },
      "source": [
        "a=5\n",
        "print(a)\n",
        "type(a)"
      ],
      "execution_count": 0,
      "outputs": []
    },
    {
      "cell_type": "code",
      "metadata": {
        "id": "7om4gk5jSvXh",
        "colab_type": "code",
        "colab": {}
      },
      "source": [
        "a = 123\n",
        "\n",
        "print(a, type(a))"
      ],
      "execution_count": 0,
      "outputs": []
    },
    {
      "cell_type": "code",
      "metadata": {
        "id": "n5ADdT6qS3Pr",
        "colab_type": "code",
        "colab": {
          "base_uri": "https://localhost:8080/",
          "height": 35
        },
        "outputId": "e1d608ac-3d18-4e09-aa8c-5179c461de16"
      },
      "source": [
        "juanito = 200\n",
        "\n",
        "print(juanito, type(juanito))"
      ],
      "execution_count": 6,
      "outputs": [
        {
          "output_type": "stream",
          "text": [
            "200 <class 'int'>\n"
          ],
          "name": "stdout"
        }
      ]
    },
    {
      "cell_type": "markdown",
      "metadata": {
        "id": "H4D0ekRYS-WS",
        "colab_type": "text"
      },
      "source": [
        "Números de punto flotante"
      ]
    },
    {
      "cell_type": "code",
      "metadata": {
        "id": "TC9FZTeCTBBV",
        "colab_type": "code",
        "colab": {
          "base_uri": "https://localhost:8080/",
          "height": 35
        },
        "outputId": "3be8f32a-9134-427f-c3e8-b9777016a586"
      },
      "source": [
        "flotante = 3.1416\n",
        "\n",
        "print(flotante, type(flotante))"
      ],
      "execution_count": 1,
      "outputs": [
        {
          "output_type": "stream",
          "text": [
            "3.1416 <class 'float'>\n"
          ],
          "name": "stdout"
        }
      ]
    },
    {
      "cell_type": "code",
      "metadata": {
        "id": "OZyq-T6uTJhw",
        "colab_type": "code",
        "colab": {}
      },
      "source": [
        "flotante = 5.0\n",
        "print(flotante, type(flotante))"
      ],
      "execution_count": 0,
      "outputs": []
    },
    {
      "cell_type": "markdown",
      "metadata": {
        "id": "BfHQpFq-TU1h",
        "colab_type": "text"
      },
      "source": [
        "Cadenas de texto"
      ]
    },
    {
      "cell_type": "code",
      "metadata": {
        "id": "MIc8hoE8TWTs",
        "colab_type": "code",
        "colab": {
          "base_uri": "https://localhost:8080/",
          "height": 35
        },
        "outputId": "fafc5310-b5fc-4f4c-dc8b-b1a1b46f3ce0"
      },
      "source": [
        "cadena = 'hola, que tal?'\n",
        "\n",
        "print(cadena, type(cadena))"
      ],
      "execution_count": 2,
      "outputs": [
        {
          "output_type": "stream",
          "text": [
            "hola, que tal? <class 'str'>\n"
          ],
          "name": "stdout"
        }
      ]
    },
    {
      "cell_type": "code",
      "metadata": {
        "id": "Tt_cJCR8TgLL",
        "colab_type": "code",
        "colab": {
          "base_uri": "https://localhost:8080/",
          "height": 35
        },
        "outputId": "819e3ef3-3928-4aea-f2fd-46a6a548f295"
      },
      "source": [
        "cadena = 'hola'\n",
        "\n",
        "print(cadena, type(cadena))"
      ],
      "execution_count": 3,
      "outputs": [
        {
          "output_type": "stream",
          "text": [
            "hola <class 'str'>\n"
          ],
          "name": "stdout"
        }
      ]
    },
    {
      "cell_type": "code",
      "metadata": {
        "id": "B5-xMsu5Tpsb",
        "colab_type": "code",
        "colab": {
          "base_uri": "https://localhost:8080/",
          "height": 35
        },
        "outputId": "ff61ffc1-ea4f-45ed-b028-2af54526937c"
      },
      "source": [
        "frase = 'el lenguaje \"python\" rifa'\n",
        "print(frase, type(frase))"
      ],
      "execution_count": 4,
      "outputs": [
        {
          "output_type": "stream",
          "text": [
            "el lenguaje \"python\" rifa <class 'str'>\n"
          ],
          "name": "stdout"
        }
      ]
    },
    {
      "cell_type": "markdown",
      "metadata": {
        "id": "Pl_zvO41VFpf",
        "colab_type": "text"
      },
      "source": [
        "Para poner comillas dentro de una cadena de str, se usa tipo diferente de comillas dentro del string."
      ]
    },
    {
      "cell_type": "markdown",
      "metadata": {
        "id": "y2GqcpTJT9_p",
        "colab_type": "text"
      },
      "source": [
        "Booleanos (true/false)"
      ]
    },
    {
      "cell_type": "code",
      "metadata": {
        "id": "9RYdEnkmUBHv",
        "colab_type": "code",
        "colab": {
          "base_uri": "https://localhost:8080/",
          "height": 35
        },
        "outputId": "a40f8ad2-d8db-4ae9-9fcf-76075fcc994f"
      },
      "source": [
        "booleana = True\n",
        "\n",
        "print(booleana, type(booleana))"
      ],
      "execution_count": 5,
      "outputs": [
        {
          "output_type": "stream",
          "text": [
            "True <class 'bool'>\n"
          ],
          "name": "stdout"
        }
      ]
    },
    {
      "cell_type": "code",
      "metadata": {
        "id": "UbcLxTVlUO1j",
        "colab_type": "code",
        "colab": {
          "base_uri": "https://localhost:8080/",
          "height": 35
        },
        "outputId": "cac476f1-1d79-4b61-a58f-eaa93ffbd259"
      },
      "source": [
        "a = False\n",
        "\n",
        "print(a, type(a))"
      ],
      "execution_count": 7,
      "outputs": [
        {
          "output_type": "stream",
          "text": [
            "False <class 'bool'>\n"
          ],
          "name": "stdout"
        }
      ]
    },
    {
      "cell_type": "markdown",
      "metadata": {
        "id": "_5Fb6KDxUZ1p",
        "colab_type": "text"
      },
      "source": [
        "\"True\" y \"False\" son palabras reservadas, no pedes usarlas en tu código"
      ]
    },
    {
      "cell_type": "markdown",
      "metadata": {
        "id": "iCz9QEd-Uq8_",
        "colab_type": "text"
      },
      "source": [
        "Números complejos\n",
        "*z = a + ib*"
      ]
    },
    {
      "cell_type": "code",
      "metadata": {
        "id": "wOwMx4ODUwaQ",
        "colab_type": "code",
        "colab": {
          "base_uri": "https://localhost:8080/",
          "height": 35
        },
        "outputId": "ec0fa474-1efc-4f79-b596-ae60403c78f3"
      },
      "source": [
        "z=complex(14, 9)\n",
        "print(z, type(z))"
      ],
      "execution_count": 8,
      "outputs": [
        {
          "output_type": "stream",
          "text": [
            "(14+9j) <class 'complex'>\n"
          ],
          "name": "stdout"
        }
      ]
    },
    {
      "cell_type": "markdown",
      "metadata": {
        "id": "WGQ-Hi5fVR4G",
        "colab_type": "text"
      },
      "source": [
        "Operaciones Aritméticas"
      ]
    },
    {
      "cell_type": "code",
      "metadata": {
        "id": "mbtRZQBgVUM0",
        "colab_type": "code",
        "colab": {}
      },
      "source": [
        "a=4\n",
        "b=3.1\n",
        "\n",
        "suma=a+b\n",
        "print(suma)"
      ],
      "execution_count": 0,
      "outputs": []
    },
    {
      "cell_type": "code",
      "metadata": {
        "id": "Pr3KIpQNVazM",
        "colab_type": "code",
        "colab": {}
      },
      "source": [
        "restar=a-b\n",
        "print(restar)"
      ],
      "execution_count": 0,
      "outputs": []
    },
    {
      "cell_type": "code",
      "metadata": {
        "id": "K6UsxsweVfC4",
        "colab_type": "code",
        "colab": {
          "base_uri": "https://localhost:8080/",
          "height": 191
        },
        "outputId": "39cbb977-f0d0-4edd-9c57-5c7bfb3804a0"
      },
      "source": [
        "multiplicar = a*b\n",
        "print(multiplicar)"
      ],
      "execution_count": 9,
      "outputs": [
        {
          "output_type": "error",
          "ename": "NameError",
          "evalue": "ignored",
          "traceback": [
            "\u001b[0;31m---------------------------------------------------------------------------\u001b[0m",
            "\u001b[0;31mNameError\u001b[0m                                 Traceback (most recent call last)",
            "\u001b[0;32m<ipython-input-9-d51d6c6f38d9>\u001b[0m in \u001b[0;36m<module>\u001b[0;34m()\u001b[0m\n\u001b[0;32m----> 1\u001b[0;31m \u001b[0mmultiplicar\u001b[0m \u001b[0;34m=\u001b[0m \u001b[0ma\u001b[0m\u001b[0;34m*\u001b[0m\u001b[0mb\u001b[0m\u001b[0;34m\u001b[0m\u001b[0;34m\u001b[0m\u001b[0m\n\u001b[0m\u001b[1;32m      2\u001b[0m \u001b[0mprint\u001b[0m\u001b[0;34m(\u001b[0m\u001b[0mmultiplicar\u001b[0m\u001b[0;34m)\u001b[0m\u001b[0;34m\u001b[0m\u001b[0;34m\u001b[0m\u001b[0m\n",
            "\u001b[0;31mNameError\u001b[0m: name 'b' is not defined"
          ]
        }
      ]
    },
    {
      "cell_type": "code",
      "metadata": {
        "id": "NUCknYwrVqt6",
        "colab_type": "code",
        "colab": {}
      },
      "source": [
        "dividir = a/b\n",
        "print(dividir)"
      ],
      "execution_count": 0,
      "outputs": []
    },
    {
      "cell_type": "code",
      "metadata": {
        "id": "_txI1eqBVyGz",
        "colab_type": "code",
        "colab": {
          "base_uri": "https://localhost:8080/",
          "height": 35
        },
        "outputId": "3cef6a75-a2d0-4d71-de32-4a40cfde3f98"
      },
      "source": [
        "a = 2\n",
        "b = 3\n",
        "\n",
        "potencia= a ** b\n",
        "print(potencia)"
      ],
      "execution_count": 10,
      "outputs": [
        {
          "output_type": "stream",
          "text": [
            "8\n"
          ],
          "name": "stdout"
        }
      ]
    },
    {
      "cell_type": "markdown",
      "metadata": {
        "id": "t1kJ6cPTWL3m",
        "colab_type": "text"
      },
      "source": [
        "*Modulo es el residuo de una division*"
      ]
    },
    {
      "cell_type": "code",
      "metadata": {
        "id": "0heo8GL9V_E5",
        "colab_type": "code",
        "colab": {
          "base_uri": "https://localhost:8080/",
          "height": 35
        },
        "outputId": "d921e131-a05a-48aa-fda0-35394b0ee2dc"
      },
      "source": [
        "a = 10\n",
        "b = 4\n",
        "\n",
        "modulo = a%b\n",
        "print(modulo)"
      ],
      "execution_count": 11,
      "outputs": [
        {
          "output_type": "stream",
          "text": [
            "2\n"
          ],
          "name": "stdout"
        }
      ]
    },
    {
      "cell_type": "markdown",
      "metadata": {
        "id": "XXYU7rteWdMk",
        "colab_type": "text"
      },
      "source": [
        "*Para obtener resultado entero de una division:*"
      ]
    },
    {
      "cell_type": "code",
      "metadata": {
        "id": "kk2rOzL4WTiq",
        "colab_type": "code",
        "colab": {
          "base_uri": "https://localhost:8080/",
          "height": 35
        },
        "outputId": "22a191f9-2410-40cb-a775-7c6bdf1055ae"
      },
      "source": [
        "a = 11\n",
        "b = 4\n",
        "\n",
        "division_entera = a//b\n",
        "print(division_entera)"
      ],
      "execution_count": 12,
      "outputs": [
        {
          "output_type": "stream",
          "text": [
            "2\n"
          ],
          "name": "stdout"
        }
      ]
    },
    {
      "cell_type": "code",
      "metadata": {
        "id": "w82xUIZTWlIg",
        "colab_type": "code",
        "colab": {}
      },
      "source": [
        "a=11\n",
        "b=4\n",
        "\n",
        "entera=a//b\n",
        "resto=a%b\n",
        "\n",
        "print(entera,resto)\n",
        "\n",
        "numero=entera*b +resto\n",
        "print(numero)"
      ],
      "execution_count": 0,
      "outputs": []
    },
    {
      "cell_type": "code",
      "metadata": {
        "id": "wLrmQvLxWxm_",
        "colab_type": "code",
        "colab": {
          "base_uri": "https://localhost:8080/",
          "height": 35
        },
        "outputId": "6ea6d08d-5b74-4730-881b-c0880b84eff4"
      },
      "source": [
        "# Esto es un comentario\n",
        "numero = 1 -0.8 -0.2 #esperamos que sea cero\n",
        "print(numero)\n",
        "\n",
        "#resultado = 0.00000000000000005"
      ],
      "execution_count": 13,
      "outputs": [
        {
          "output_type": "stream",
          "text": [
            "-5.551115123125783e-17\n"
          ],
          "name": "stdout"
        }
      ]
    },
    {
      "cell_type": "code",
      "metadata": {
        "id": "w3kvLlW9XUfC",
        "colab_type": "code",
        "colab": {
          "base_uri": "https://localhost:8080/",
          "height": 35
        },
        "outputId": "478cdd00-1cdb-4dc0-b940-01390cf966c9"
      },
      "source": [
        "a = 5\n",
        "\n",
        "a = a+3\n",
        "\n",
        "print(a)"
      ],
      "execution_count": 14,
      "outputs": [
        {
          "output_type": "stream",
          "text": [
            "8\n"
          ],
          "name": "stdout"
        }
      ]
    },
    {
      "cell_type": "code",
      "metadata": {
        "id": "nXXkjKYaXb7A",
        "colab_type": "code",
        "colab": {
          "base_uri": "https://localhost:8080/",
          "height": 35
        },
        "outputId": "d85df2e5-c989-4fa4-a18f-ec62edad4854"
      },
      "source": [
        "a = 5\n",
        "a += 3\n",
        "# Aqui se le suma a \"a\" todo lo que está despues del \"=\"\n",
        "print(a)"
      ],
      "execution_count": 15,
      "outputs": [
        {
          "output_type": "stream",
          "text": [
            "8\n"
          ],
          "name": "stdout"
        }
      ]
    },
    {
      "cell_type": "code",
      "metadata": {
        "id": "4LeAikmTX1YX",
        "colab_type": "code",
        "colab": {}
      },
      "source": [
        "numero = 5\n",
        "cadena = \"no soy un numero jajaja\"\n",
        "\n",
        "res = numero + cadena\n",
        "#Esto es invalido"
      ],
      "execution_count": 0,
      "outputs": []
    },
    {
      "cell_type": "code",
      "metadata": {
        "id": "HYbJaHBeYHR6",
        "colab_type": "code",
        "colab": {
          "base_uri": "https://localhost:8080/",
          "height": 35
        },
        "outputId": "02484b6a-2c80-4da6-f03a-89bd678b2c7e"
      },
      "source": [
        "cadena1 = \"hola, \"\n",
        "cadena2 = \" como estas?\"\n",
        "frase = cadena1+cadena2\n",
        "print(frase)"
      ],
      "execution_count": 16,
      "outputs": [
        {
          "output_type": "stream",
          "text": [
            "hola,  como estas?\n"
          ],
          "name": "stdout"
        }
      ]
    },
    {
      "cell_type": "code",
      "metadata": {
        "id": "bW2TJnYpYSSB",
        "colab_type": "code",
        "colab": {
          "base_uri": "https://localhost:8080/",
          "height": 55
        },
        "outputId": "e629954e-b870-4cd9-c72e-18c74af95ad1"
      },
      "source": [
        "palabra = \"oye \"\n",
        "molestar = palabra*50\n",
        "\n",
        "print(molestar)"
      ],
      "execution_count": 17,
      "outputs": [
        {
          "output_type": "stream",
          "text": [
            "oye oye oye oye oye oye oye oye oye oye oye oye oye oye oye oye oye oye oye oye oye oye oye oye oye oye oye oye oye oye oye oye oye oye oye oye oye oye oye oye oye oye oye oye oye oye oye oye oye oye \n"
          ],
          "name": "stdout"
        }
      ]
    },
    {
      "cell_type": "markdown",
      "metadata": {
        "id": "ooCBbVK1Ye_x",
        "colab_type": "text"
      },
      "source": [
        "**Operaciones Lógicas (<,>,==,!=,<=,>=)**"
      ]
    },
    {
      "cell_type": "code",
      "metadata": {
        "id": "JN9wUEDeYrkP",
        "colab_type": "code",
        "colab": {
          "base_uri": "https://localhost:8080/",
          "height": 35
        },
        "outputId": "fd56b31f-7277-4f5f-a0dc-972f7346f4b6"
      },
      "source": [
        "a = 5\n",
        "b = 3\n",
        "\n",
        "comparacion = a<b #5 no es menor a 3\n",
        "\n",
        "print(comparacion)"
      ],
      "execution_count": 18,
      "outputs": [
        {
          "output_type": "stream",
          "text": [
            "False\n"
          ],
          "name": "stdout"
        }
      ]
    },
    {
      "cell_type": "code",
      "metadata": {
        "id": "SX7nVJo6Yzuo",
        "colab_type": "code",
        "colab": {
          "base_uri": "https://localhost:8080/",
          "height": 35
        },
        "outputId": "852f79b2-727a-4964-ce3b-6cb2a35fe909"
      },
      "source": [
        "grande = 100 \n",
        "pequeño = -1\n",
        "\n",
        "pregunta = grande > pequeño\n",
        "\n",
        "print(pregunta)"
      ],
      "execution_count": 19,
      "outputs": [
        {
          "output_type": "stream",
          "text": [
            "True\n"
          ],
          "name": "stdout"
        }
      ]
    },
    {
      "cell_type": "code",
      "metadata": {
        "id": "tdhS04XnY8uL",
        "colab_type": "code",
        "colab": {
          "base_uri": "https://localhost:8080/",
          "height": 35
        },
        "outputId": "a4b8351e-eecc-436d-b35c-ad69bac8482d"
      },
      "source": [
        "cadena1 = 'hola'\n",
        "cadena2 = 'hola'\n",
        "\n",
        "iguales = (cadena1 == cadena2)\n",
        "\n",
        "print(iguales)"
      ],
      "execution_count": 20,
      "outputs": [
        {
          "output_type": "stream",
          "text": [
            "True\n"
          ],
          "name": "stdout"
        }
      ]
    },
    {
      "cell_type": "code",
      "metadata": {
        "id": "7rqRbCJVZJ-U",
        "colab_type": "code",
        "colab": {
          "base_uri": "https://localhost:8080/",
          "height": 35
        },
        "outputId": "983f70fb-0847-4f41-f3c5-f9a88981e499"
      },
      "source": [
        "cadena1 = 'hola'\n",
        "cadena2 = 'no es \"hola\"'\n",
        "\n",
        "iguales = (cadena1 == cadena2)\n",
        "\n",
        "print(iguales)"
      ],
      "execution_count": 21,
      "outputs": [
        {
          "output_type": "stream",
          "text": [
            "False\n"
          ],
          "name": "stdout"
        }
      ]
    },
    {
      "cell_type": "code",
      "metadata": {
        "id": "o5bwTrSBZQ6E",
        "colab_type": "code",
        "colab": {
          "base_uri": "https://localhost:8080/",
          "height": 35
        },
        "outputId": "85e19bf6-19b5-4093-a718-bd4baccee267"
      },
      "source": [
        "a = 1.23\n",
        "b = 1.24\n",
        "\n",
        "diferentes = a!= b\n",
        "#Aqui pregutnamos si a y b son diferentes\n",
        "print(diferentes)"
      ],
      "execution_count": 22,
      "outputs": [
        {
          "output_type": "stream",
          "text": [
            "True\n"
          ],
          "name": "stdout"
        }
      ]
    },
    {
      "cell_type": "code",
      "metadata": {
        "id": "yZ9r_X-GZc_s",
        "colab_type": "code",
        "colab": {
          "base_uri": "https://localhost:8080/",
          "height": 35
        },
        "outputId": "41001653-aab9-4e6b-aa06-2dfc82054602"
      },
      "source": [
        "a = 12.3\n",
        "b = 1.5\n",
        "\n",
        "comparacion = a <= b\n",
        "print(comparacion)"
      ],
      "execution_count": 23,
      "outputs": [
        {
          "output_type": "stream",
          "text": [
            "False\n"
          ],
          "name": "stdout"
        }
      ]
    },
    {
      "cell_type": "markdown",
      "metadata": {
        "id": "HQORuyFAZ70P",
        "colab_type": "text"
      },
      "source": [
        "**Casting**"
      ]
    },
    {
      "cell_type": "code",
      "metadata": {
        "id": "9hg3qIOlZ_vJ",
        "colab_type": "code",
        "colab": {
          "base_uri": "https://localhost:8080/",
          "height": 35
        },
        "outputId": "a72c7f2f-2bca-4197-e8c5-cba1ad494e30"
      },
      "source": [
        "a = '5'\n",
        "b = 3\n",
        "\n",
        "entera = int(a)\n",
        "\n",
        "suma = entera + b\n",
        "print(suma)"
      ],
      "execution_count": 24,
      "outputs": [
        {
          "output_type": "stream",
          "text": [
            "8\n"
          ],
          "name": "stdout"
        }
      ]
    },
    {
      "cell_type": "code",
      "metadata": {
        "id": "uLT5CUizaStG",
        "colab_type": "code",
        "colab": {
          "base_uri": "https://localhost:8080/",
          "height": 35
        },
        "outputId": "0a9ac503-9370-4f9a-f77e-01832055a752"
      },
      "source": [
        "a = 3.1416\n",
        "\n",
        "entera = int(a)\n",
        "\n",
        "print(entera)"
      ],
      "execution_count": 25,
      "outputs": [
        {
          "output_type": "stream",
          "text": [
            "3\n"
          ],
          "name": "stdout"
        }
      ]
    },
    {
      "cell_type": "code",
      "metadata": {
        "id": "2pYkGgh6abZb",
        "colab_type": "code",
        "colab": {
          "base_uri": "https://localhost:8080/",
          "height": 35
        },
        "outputId": "f1c11a2f-692d-4ed9-d4ef-2e916eda5d32"
      },
      "source": [
        "edad = 'Mi edad es: '\n",
        "numero = 20\n",
        "\n",
        "numero = str(numero)\n",
        "\n",
        "frase = edad + numero\n",
        "print(frase)"
      ],
      "execution_count": 26,
      "outputs": [
        {
          "output_type": "stream",
          "text": [
            "Mi edad es: 20\n"
          ],
          "name": "stdout"
        }
      ]
    }
  ]
}