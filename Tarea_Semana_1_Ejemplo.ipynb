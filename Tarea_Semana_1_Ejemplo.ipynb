{
  "nbformat": 4,
  "nbformat_minor": 0,
  "metadata": {
    "colab": {
      "name": "Tarea Semana 1 Ejemplo.ipynb",
      "provenance": [],
      "authorship_tag": "ABX9TyNlMXoAhXQ2FieBQT2jPRSh",
      "include_colab_link": true
    },
    "kernelspec": {
      "name": "python3",
      "display_name": "Python 3"
    }
  },
  "cells": [
    {
      "cell_type": "markdown",
      "metadata": {
        "id": "view-in-github",
        "colab_type": "text"
      },
      "source": [
        "<a href=\"https://colab.research.google.com/github/federicogu/omegaUp.py/blob/master/Tarea_Semana_1_Ejemplo.ipynb\" target=\"_parent\"><img src=\"https://colab.research.google.com/assets/colab-badge.svg\" alt=\"Open In Colab\"/></a>"
      ]
    },
    {
      "cell_type": "code",
      "metadata": {
        "id": "kSgoA6SCb6jc",
        "colab_type": "code",
        "colab": {}
      },
      "source": [
        "a = 1\n",
        "b = 3\n",
        "\n",
        "suma = a + b\n",
        "print(suma)"
      ],
      "execution_count": 0,
      "outputs": []
    },
    {
      "cell_type": "code",
      "metadata": {
        "id": "mV-veacTcCWL",
        "colab_type": "code",
        "colab": {
          "base_uri": "https://localhost:8080/",
          "height": 35
        },
        "outputId": "f388d0eb-4598-44f1-c2d0-2cefe854e5e8"
      },
      "source": [
        "frase = input()"
      ],
      "execution_count": 1,
      "outputs": [
        {
          "output_type": "stream",
          "text": [
            "salu2\n"
          ],
          "name": "stdout"
        }
      ]
    },
    {
      "cell_type": "code",
      "metadata": {
        "id": "tFpaUXHLcM4D",
        "colab_type": "code",
        "colab": {}
      },
      "source": [
        "print(frase)"
      ],
      "execution_count": 0,
      "outputs": []
    },
    {
      "cell_type": "code",
      "metadata": {
        "id": "lPnHnFVQcPZV",
        "colab_type": "code",
        "colab": {}
      },
      "source": [
        "a, b = input().split()"
      ],
      "execution_count": 0,
      "outputs": []
    },
    {
      "cell_type": "code",
      "metadata": {
        "id": "yNG1dP-DcUWP",
        "colab_type": "code",
        "colab": {}
      },
      "source": [
        "print(b)"
      ],
      "execution_count": 0,
      "outputs": []
    },
    {
      "cell_type": "code",
      "metadata": {
        "id": "kOFD1AqHcWsf",
        "colab_type": "code",
        "colab": {}
      },
      "source": [
        "a,b = input().split()\n",
        "\n",
        "a= int(a)\n",
        "b= int(b)\n",
        "\n",
        "suma = a + b\n",
        "print(suma)"
      ],
      "execution_count": 0,
      "outputs": []
    }
  ]
}